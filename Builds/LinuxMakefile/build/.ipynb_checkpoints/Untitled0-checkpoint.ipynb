{
 "metadata": {
  "name": "",
  "signature": "sha256:d95193cd713ee0ad37fa6578efbaa312d41212150015fad5d5db6e3ad76f30f1"
 },
 "nbformat": 3,
 "nbformat_minor": 0,
 "worksheets": []
}